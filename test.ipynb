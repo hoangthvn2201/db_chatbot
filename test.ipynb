{
 "cells": [
  {
   "cell_type": "code",
   "execution_count": 1,
   "metadata": {},
   "outputs": [],
   "source": [
    "import pyautogui"
   ]
  },
  {
   "cell_type": "code",
   "execution_count": 8,
   "metadata": {},
   "outputs": [
    {
     "data": {
      "text/plain": [
       "Point(x=239, y=243)"
      ]
     },
     "execution_count": 8,
     "metadata": {},
     "output_type": "execute_result"
    }
   ],
   "source": [
    "pyautogui.position()"
   ]
  },
  {
   "cell_type": "code",
   "execution_count": 9,
   "metadata": {},
   "outputs": [],
   "source": [
    "pyautogui.click(108,99)"
   ]
  },
  {
   "cell_type": "code",
   "execution_count": 20,
   "metadata": {},
   "outputs": [
    {
     "ename": "FailSafeException",
     "evalue": "PyAutoGUI fail-safe triggered from mouse moving to a corner of the screen. To disable this fail-safe, set pyautogui.FAILSAFE to False. DISABLING FAIL-SAFE IS NOT RECOMMENDED.",
     "output_type": "error",
     "traceback": [
      "\u001b[1;31m---------------------------------------------------------------------------\u001b[0m",
      "\u001b[1;31mFailSafeException\u001b[0m                         Traceback (most recent call last)",
      "Cell \u001b[1;32mIn[20], line 2\u001b[0m\n\u001b[0;32m      1\u001b[0m pyautogui\u001b[38;5;241m.\u001b[39mmove(\u001b[38;5;241m123\u001b[39m,\u001b[38;5;241m126\u001b[39m,\u001b[38;5;241m2\u001b[39m)\n\u001b[1;32m----> 2\u001b[0m \u001b[43mpyautogui\u001b[49m\u001b[38;5;241;43m.\u001b[39;49m\u001b[43mdrag\u001b[49m\u001b[43m(\u001b[49m\u001b[38;5;241;43m1267\u001b[39;49m\u001b[43m,\u001b[49m\u001b[43m \u001b[49m\u001b[38;5;241;43m434\u001b[39;49m\u001b[43m,\u001b[49m\u001b[38;5;241;43m2\u001b[39;49m\u001b[43m,\u001b[49m\u001b[43m \u001b[49m\u001b[43mbutton\u001b[49m\u001b[38;5;241;43m=\u001b[39;49m\u001b[38;5;124;43m'\u001b[39;49m\u001b[38;5;124;43mleft\u001b[39;49m\u001b[38;5;124;43m'\u001b[39;49m\u001b[43m)\u001b[49m \n",
      "File \u001b[1;32mc:\\Users\\dmvns00008\\anaconda3\\envs\\text2sql\\Lib\\site-packages\\pyautogui\\__init__.py:594\u001b[0m, in \u001b[0;36m_genericPyAutoGUIChecks.<locals>.wrapper\u001b[1;34m(*args, **kwargs)\u001b[0m\n\u001b[0;32m    591\u001b[0m \u001b[38;5;129m@functools\u001b[39m\u001b[38;5;241m.\u001b[39mwraps(wrappedFunction)\n\u001b[0;32m    592\u001b[0m \u001b[38;5;28;01mdef\u001b[39;00m \u001b[38;5;21mwrapper\u001b[39m(\u001b[38;5;241m*\u001b[39margs, \u001b[38;5;241m*\u001b[39m\u001b[38;5;241m*\u001b[39mkwargs):\n\u001b[0;32m    593\u001b[0m     failSafeCheck()\n\u001b[1;32m--> 594\u001b[0m     returnVal \u001b[38;5;241m=\u001b[39m \u001b[43mwrappedFunction\u001b[49m\u001b[43m(\u001b[49m\u001b[38;5;241;43m*\u001b[39;49m\u001b[43margs\u001b[49m\u001b[43m,\u001b[49m\u001b[43m \u001b[49m\u001b[38;5;241;43m*\u001b[39;49m\u001b[38;5;241;43m*\u001b[39;49m\u001b[43mkwargs\u001b[49m\u001b[43m)\u001b[49m\n\u001b[0;32m    595\u001b[0m     _handlePause(kwargs\u001b[38;5;241m.\u001b[39mget(\u001b[38;5;124m\"\u001b[39m\u001b[38;5;124m_pause\u001b[39m\u001b[38;5;124m\"\u001b[39m, \u001b[38;5;28;01mTrue\u001b[39;00m))\n\u001b[0;32m    596\u001b[0m     \u001b[38;5;28;01mreturn\u001b[39;00m returnVal\n",
      "File \u001b[1;32mc:\\Users\\dmvns00008\\anaconda3\\envs\\text2sql\\Lib\\site-packages\\pyautogui\\__init__.py:1409\u001b[0m, in \u001b[0;36mdragRel\u001b[1;34m(xOffset, yOffset, duration, tween, button, logScreenshot, _pause, mouseDownUp)\u001b[0m\n\u001b[0;32m   1407\u001b[0m \u001b[38;5;28;01mif\u001b[39;00m mouseDownUp:\n\u001b[0;32m   1408\u001b[0m     mouseDown(button\u001b[38;5;241m=\u001b[39mbutton, logScreenshot\u001b[38;5;241m=\u001b[39m\u001b[38;5;28;01mFalse\u001b[39;00m, _pause\u001b[38;5;241m=\u001b[39m\u001b[38;5;28;01mFalse\u001b[39;00m)\n\u001b[1;32m-> 1409\u001b[0m \u001b[43m_mouseMoveDrag\u001b[49m\u001b[43m(\u001b[49m\u001b[38;5;124;43m\"\u001b[39;49m\u001b[38;5;124;43mdrag\u001b[39;49m\u001b[38;5;124;43m\"\u001b[39;49m\u001b[43m,\u001b[49m\u001b[43m \u001b[49m\u001b[43mmousex\u001b[49m\u001b[43m,\u001b[49m\u001b[43m \u001b[49m\u001b[43mmousey\u001b[49m\u001b[43m,\u001b[49m\u001b[43m \u001b[49m\u001b[43mxOffset\u001b[49m\u001b[43m,\u001b[49m\u001b[43m \u001b[49m\u001b[43myOffset\u001b[49m\u001b[43m,\u001b[49m\u001b[43m \u001b[49m\u001b[43mduration\u001b[49m\u001b[43m,\u001b[49m\u001b[43m \u001b[49m\u001b[43mtween\u001b[49m\u001b[43m,\u001b[49m\u001b[43m \u001b[49m\u001b[43mbutton\u001b[49m\u001b[43m)\u001b[49m\n\u001b[0;32m   1410\u001b[0m \u001b[38;5;28;01mif\u001b[39;00m mouseDownUp:\n\u001b[0;32m   1411\u001b[0m     mouseUp(button\u001b[38;5;241m=\u001b[39mbutton, logScreenshot\u001b[38;5;241m=\u001b[39m\u001b[38;5;28;01mFalse\u001b[39;00m, _pause\u001b[38;5;241m=\u001b[39m\u001b[38;5;28;01mFalse\u001b[39;00m)\n",
      "File \u001b[1;32mc:\\Users\\dmvns00008\\anaconda3\\envs\\text2sql\\Lib\\site-packages\\pyautogui\\__init__.py:1504\u001b[0m, in \u001b[0;36m_mouseMoveDrag\u001b[1;34m(moveOrDrag, x, y, xOffset, yOffset, duration, tween, button)\u001b[0m\n\u001b[0;32m   1500\u001b[0m \u001b[38;5;66;03m# Do a fail-safe check to see if the user moved the mouse to a fail-safe position, but not if the mouse cursor\u001b[39;00m\n\u001b[0;32m   1501\u001b[0m \u001b[38;5;66;03m# moved there as a result of this function. (Just because tweenX and tweenY aren't in a fail-safe position\u001b[39;00m\n\u001b[0;32m   1502\u001b[0m \u001b[38;5;66;03m# doesn't mean the user couldn't have moved the mouse cursor to a fail-safe position.)\u001b[39;00m\n\u001b[0;32m   1503\u001b[0m \u001b[38;5;28;01mif\u001b[39;00m (tweenX, tweenY) \u001b[38;5;129;01mnot\u001b[39;00m \u001b[38;5;129;01min\u001b[39;00m FAILSAFE_POINTS:\n\u001b[1;32m-> 1504\u001b[0m     \u001b[43mfailSafeCheck\u001b[49m\u001b[43m(\u001b[49m\u001b[43m)\u001b[49m\n\u001b[0;32m   1506\u001b[0m \u001b[38;5;28;01mif\u001b[39;00m moveOrDrag \u001b[38;5;241m==\u001b[39m \u001b[38;5;124m\"\u001b[39m\u001b[38;5;124mmove\u001b[39m\u001b[38;5;124m\"\u001b[39m:\n\u001b[0;32m   1507\u001b[0m     platformModule\u001b[38;5;241m.\u001b[39m_moveTo(tweenX, tweenY)\n",
      "File \u001b[1;32mc:\\Users\\dmvns00008\\anaconda3\\envs\\text2sql\\Lib\\site-packages\\pyautogui\\__init__.py:1734\u001b[0m, in \u001b[0;36mfailSafeCheck\u001b[1;34m()\u001b[0m\n\u001b[0;32m   1732\u001b[0m \u001b[38;5;28;01mdef\u001b[39;00m \u001b[38;5;21mfailSafeCheck\u001b[39m():\n\u001b[0;32m   1733\u001b[0m     \u001b[38;5;28;01mif\u001b[39;00m FAILSAFE \u001b[38;5;129;01mand\u001b[39;00m \u001b[38;5;28mtuple\u001b[39m(position()) \u001b[38;5;129;01min\u001b[39;00m FAILSAFE_POINTS:\n\u001b[1;32m-> 1734\u001b[0m         \u001b[38;5;28;01mraise\u001b[39;00m FailSafeException(\n\u001b[0;32m   1735\u001b[0m             \u001b[38;5;124m\"\u001b[39m\u001b[38;5;124mPyAutoGUI fail-safe triggered from mouse moving to a corner of the screen. To disable this fail-safe, set pyautogui.FAILSAFE to False. DISABLING FAIL-SAFE IS NOT RECOMMENDED.\u001b[39m\u001b[38;5;124m\"\u001b[39m\n\u001b[0;32m   1736\u001b[0m         )\n",
      "\u001b[1;31mFailSafeException\u001b[0m: PyAutoGUI fail-safe triggered from mouse moving to a corner of the screen. To disable this fail-safe, set pyautogui.FAILSAFE to False. DISABLING FAIL-SAFE IS NOT RECOMMENDED."
     ]
    }
   ],
   "source": [
    "pyautogui.move(123,126,2)\n",
    "pyautogui.drag(1267, 434,2, button='left') "
   ]
  },
  {
   "cell_type": "code",
   "execution_count": 51,
   "metadata": {},
   "outputs": [],
   "source": [
    "import time\n",
    "# Di chuyển con trỏ chuột đến vị trí bắt đầu (126, 34)\n",
    "pyautogui.moveTo(126, 128)\n",
    "time.sleep(1)\n",
    "\n",
    "# Nhấn và giữ chuột trái\n",
    "pyautogui.mouseDown()\n",
    "\n",
    "# Di chuyển con trỏ chuột đến vị trí kết thúc (1023, 14)\n",
    "pyautogui.moveTo(1260, 434)\n",
    "pyautogui.moveTo(1261,435)\n",
    "time.sleep(1)\n",
    "\n",
    "# Nhả chuột trái\n",
    "pyautogui.mouseUp()\n"
   ]
  },
  {
   "cell_type": "code",
   "execution_count": 45,
   "metadata": {},
   "outputs": [],
   "source": [
    "\n",
    "pyautogui.mouseDown(button='left', x=126,y=128)\n",
    "pyautogui.moveTo(1260, 434)\n",
    "pyautogui.mouseUp()\n"
   ]
  },
  {
   "cell_type": "code",
   "execution_count": null,
   "metadata": {},
   "outputs": [],
   "source": [
    "import pyautogui\n",
    "import time\n",
    "import os\n",
    "\n",
    "# Wait for the file explorer window to be active\n",
    "time.sleep(2)\n",
    "\n",
    "# Move the mouse cursor to the \"templates\" folder\n",
    "pyautogui.click(100, 100)  # Adjust the coordinates as needed\n",
    "pyautogui.typewrite(\"templates\\n\")\n",
    "\n",
    "# Wait for the folder to open\n",
    "time.sleep(2)\n",
    "\n",
    "# Get a list of files in the \"templates\" folder\n",
    "files = os.listdir(\"templates\")\n",
    "\n",
    "# Find the first HTML file in the list\n",
    "for file in files:\n",
    "    if file.endswith(\".html\"):\n",
    "        # Move the mouse cursor to the HTML file and select it\n",
    "        pyautogui.click(300, 200)  # Adjust the coordinates as needed\n",
    "        pyautogui.typewrite(file + \"\\n\")\n",
    "        break\n",
    "\n",
    "# Press the Enter key to open the file\n",
    "pyautogui.press(\"enter\")"
   ]
  },
  {
   "cell_type": "code",
   "execution_count": 59,
   "metadata": {},
   "outputs": [],
   "source": [
    "import os"
   ]
  },
  {
   "cell_type": "code",
   "execution_count": 65,
   "metadata": {},
   "outputs": [
    {
     "data": {
      "text/plain": [
       "['base.html',\n",
       " 'before_login.html',\n",
       " 'chart.html',\n",
       " 'chat_page.html',\n",
       " 'create.html',\n",
       " 'create_qa.html',\n",
       " 'create_response.html',\n",
       " 'create_tool.html',\n",
       " 'definition.html',\n",
       " 'edit.html',\n",
       " 'edit_qa.html',\n",
       " 'edit_response.html',\n",
       " 'edit_tool.html',\n",
       " 'index.html',\n",
       " 'jidouka.html',\n",
       " 'login.html',\n",
       " 'manage_users.html',\n",
       " 'profile.html',\n",
       " 'qna.html',\n",
       " 'signup.html',\n",
       " 'tool.html']"
      ]
     },
     "execution_count": 65,
     "metadata": {},
     "output_type": "execute_result"
    }
   ],
   "source": [
    "files"
   ]
  },
  {
   "cell_type": "code",
   "execution_count": 67,
   "metadata": {},
   "outputs": [],
   "source": [
    "pyautogui.click(54, 20) \n",
    "pyautogui.click(89, 159) \n",
    "pyautogui.click(89, 159) \n",
    "pyautogui.click(903, 43) \n",
    "pyautogui.click(903, 43) \n",
    "pyautogui.typewrite(\"templates\")\n",
    "pyautogui.click(850, 716) \n",
    "pyautogui.click(850, 716)  \n",
    "pyautogui.typewrite(\"base.html\")"
   ]
  },
  {
   "cell_type": "code",
   "execution_count": null,
   "metadata": {},
   "outputs": [],
   "source": [
    "\n",
    "\n",
    "files = os.listdir(\"templates\")\n",
    "\n",
    "# Find the first HTML file in the list\n",
    "i = 0\n",
    "for file in files:\n",
    "    if file.endswith(\".html\") and i == 0:\n",
    "        # Move the mouse cursor to the HTML file and select it\n",
    "        pyautogui.click(54, 20) \n",
    "        pyautogui.click(89, 159) \n",
    "        pyautogui.click(89, 159) \n",
    "        pyautogui.typewrite(\"templates\")\n",
    "        pyautogui.press('enter')\n",
    "        pyautogui.typewrite(file + \"\\n\")\n",
    "        pyautogui.press('enter')\n",
    "        time.sleep(1)\n",
    "        i += 1\n",
    "    elif file.endswith(\".html\") and i != 0:\n",
    "        pyautogui.click(54, 20) \n",
    "        pyautogui.click(89, 159) \n",
    "        pyautogui.click(89, 159) \n",
    "        pyautogui.typewrite(file + \"\\n\")\n",
    "        pyautogui.press('enter')\n",
    "        time.sleep(1)\n",
    "\n",
    "        \n"
   ]
  },
  {
   "cell_type": "code",
   "execution_count": null,
   "metadata": {},
   "outputs": [],
   "source": []
  }
 ],
 "metadata": {
  "kernelspec": {
   "display_name": "text2sql",
   "language": "python",
   "name": "python3"
  },
  "language_info": {
   "codemirror_mode": {
    "name": "ipython",
    "version": 3
   },
   "file_extension": ".py",
   "mimetype": "text/x-python",
   "name": "python",
   "nbconvert_exporter": "python",
   "pygments_lexer": "ipython3",
   "version": "3.12.7"
  }
 },
 "nbformat": 4,
 "nbformat_minor": 2
}
